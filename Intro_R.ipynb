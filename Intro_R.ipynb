{
  "nbformat": 4,
  "nbformat_minor": 0,
  "metadata": {
    "colab": {
      "provenance": []
    },
    "kernelspec": {
      "name": "ir",
      "display_name": "R"
    },
    "language_info": {
      "name": "R"
    }
  },
  "cells": [
    {
      "cell_type": "code",
      "execution_count": 1,
      "metadata": {
        "id": "ggRIf2SleRJ3"
      },
      "outputs": [],
      "source": [
        "x <- 12"
      ]
    },
    {
      "cell_type": "code",
      "source": [
        "# create vector of integers from 0 to 9\n",
        "some_numbers <- c(0,1,2,3,4,5,6,7,8,9)\n",
        "\n",
        "# alternatively \n",
        "some_numbers <- c(0:9)\n",
        "\n",
        "some_numbers"
      ],
      "metadata": {
        "colab": {
          "base_uri": "https://localhost:8080/",
          "height": 34
        },
        "id": "5AUGYdmXfZMS",
        "outputId": "bcd90fcc-2a28-41d3-ee9b-b8ff40170551"
      },
      "execution_count": 2,
      "outputs": [
        {
          "output_type": "display_data",
          "data": {
            "text/html": [
              "<style>\n",
              ".list-inline {list-style: none; margin:0; padding: 0}\n",
              ".list-inline>li {display: inline-block}\n",
              ".list-inline>li:not(:last-child)::after {content: \"\\00b7\"; padding: 0 .5ex}\n",
              "</style>\n",
              "<ol class=list-inline><li>0</li><li>1</li><li>2</li><li>3</li><li>4</li><li>5</li><li>6</li><li>7</li><li>8</li><li>9</li></ol>\n"
            ],
            "text/markdown": "1. 0\n2. 1\n3. 2\n4. 3\n5. 4\n6. 5\n7. 6\n8. 7\n9. 8\n10. 9\n\n\n",
            "text/latex": "\\begin{enumerate*}\n\\item 0\n\\item 1\n\\item 2\n\\item 3\n\\item 4\n\\item 5\n\\item 6\n\\item 7\n\\item 8\n\\item 9\n\\end{enumerate*}\n",
            "text/plain": [
              " [1] 0 1 2 3 4 5 6 7 8 9"
            ]
          },
          "metadata": {}
        }
      ]
    },
    {
      "cell_type": "code",
      "source": [
        "mean(some_numbers)"
      ],
      "metadata": {
        "colab": {
          "base_uri": "https://localhost:8080/",
          "height": 34
        },
        "id": "wpTp02qjfkcS",
        "outputId": "42b18b17-6166-4df5-de34-b817bed3d785"
      },
      "execution_count": 3,
      "outputs": [
        {
          "output_type": "display_data",
          "data": {
            "text/html": [
              "4.5"
            ],
            "text/markdown": "4.5",
            "text/latex": "4.5",
            "text/plain": [
              "[1] 4.5"
            ]
          },
          "metadata": {}
        }
      ]
    },
    {
      "cell_type": "code",
      "source": [
        "install.packages('tidyverse')"
      ],
      "metadata": {
        "colab": {
          "base_uri": "https://localhost:8080/"
        },
        "id": "bpgCByZkfn0c",
        "outputId": "37fdf209-e71f-4301-8dbc-0d114e0f77a3"
      },
      "execution_count": 4,
      "outputs": [
        {
          "output_type": "stream",
          "name": "stderr",
          "text": [
            "Installing package into ‘/usr/local/lib/R/site-library’\n",
            "(as ‘lib’ is unspecified)\n",
            "\n"
          ]
        }
      ]
    },
    {
      "cell_type": "code",
      "source": [
        "library(tidyverse)"
      ],
      "metadata": {
        "colab": {
          "base_uri": "https://localhost:8080/"
        },
        "id": "HnUMohQ1gIcG",
        "outputId": "8ee49617-1594-47d6-92bd-d9022f70a3c5"
      },
      "execution_count": 5,
      "outputs": [
        {
          "output_type": "stream",
          "name": "stderr",
          "text": [
            "Warning message in system(\"timedatectl\", intern = TRUE):\n",
            "“running command 'timedatectl' had status 1”\n",
            "── \u001b[1mAttaching packages\u001b[22m ─────────────────────────────────────── tidyverse 1.3.2 ──\n",
            "\u001b[32m✔\u001b[39m \u001b[34mggplot2\u001b[39m 3.3.6      \u001b[32m✔\u001b[39m \u001b[34mpurrr  \u001b[39m 0.3.5 \n",
            "\u001b[32m✔\u001b[39m \u001b[34mtibble \u001b[39m 3.1.7      \u001b[32m✔\u001b[39m \u001b[34mdplyr  \u001b[39m 1.0.10\n",
            "\u001b[32m✔\u001b[39m \u001b[34mtidyr  \u001b[39m 1.2.1      \u001b[32m✔\u001b[39m \u001b[34mstringr\u001b[39m 1.4.1 \n",
            "\u001b[32m✔\u001b[39m \u001b[34mreadr  \u001b[39m 2.1.3      \u001b[32m✔\u001b[39m \u001b[34mforcats\u001b[39m 0.5.2 \n",
            "── \u001b[1mConflicts\u001b[22m ────────────────────────────────────────── tidyverse_conflicts() ──\n",
            "\u001b[31m✖\u001b[39m \u001b[34mdplyr\u001b[39m::\u001b[32mfilter()\u001b[39m masks \u001b[34mstats\u001b[39m::filter()\n",
            "\u001b[31m✖\u001b[39m \u001b[34mdplyr\u001b[39m::\u001b[32mlag()\u001b[39m    masks \u001b[34mstats\u001b[39m::lag()\n"
          ]
        }
      ]
    },
    {
      "cell_type": "code",
      "source": [
        "paygap <- read.csv('/data/UK Gender Pay Gap Data - 2019 to 2020.csv')"
      ],
      "metadata": {
        "id": "gGUmiA8sizLi"
      },
      "execution_count": 6,
      "outputs": []
    },
    {
      "cell_type": "code",
      "source": [
        "head(paygap, n = 5)"
      ],
      "metadata": {
        "colab": {
          "base_uri": "https://localhost:8080/",
          "height": 674
        },
        "id": "34JSOmwejfJ3",
        "outputId": "6f57fbb9-fdcb-43a9-9e19-93bc77bbae6c"
      },
      "execution_count": 7,
      "outputs": [
        {
          "output_type": "display_data",
          "data": {
            "text/html": [
              "<table class=\"dataframe\">\n",
              "<caption>A data.frame: 5 × 27</caption>\n",
              "<thead>\n",
              "\t<tr><th></th><th scope=col>EmployerName</th><th scope=col>EmployerId</th><th scope=col>Address</th><th scope=col>PostCode</th><th scope=col>CompanyNumber</th><th scope=col>SicCodes</th><th scope=col>DiffMeanHourlyPercent</th><th scope=col>DiffMedianHourlyPercent</th><th scope=col>DiffMeanBonusPercent</th><th scope=col>DiffMedianBonusPercent</th><th scope=col>⋯</th><th scope=col>FemaleUpperMiddleQuartile</th><th scope=col>MaleTopQuartile</th><th scope=col>FemaleTopQuartile</th><th scope=col>CompanyLinkToGPGInfo</th><th scope=col>ResponsiblePerson</th><th scope=col>EmployerSize</th><th scope=col>CurrentName</th><th scope=col>SubmittedAfterTheDeadline</th><th scope=col>DueDate</th><th scope=col>DateSubmitted</th></tr>\n",
              "\t<tr><th></th><th scope=col>&lt;chr&gt;</th><th scope=col>&lt;int&gt;</th><th scope=col>&lt;chr&gt;</th><th scope=col>&lt;chr&gt;</th><th scope=col>&lt;chr&gt;</th><th scope=col>&lt;chr&gt;</th><th scope=col>&lt;dbl&gt;</th><th scope=col>&lt;dbl&gt;</th><th scope=col>&lt;dbl&gt;</th><th scope=col>&lt;dbl&gt;</th><th scope=col>⋯</th><th scope=col>&lt;dbl&gt;</th><th scope=col>&lt;dbl&gt;</th><th scope=col>&lt;dbl&gt;</th><th scope=col>&lt;chr&gt;</th><th scope=col>&lt;chr&gt;</th><th scope=col>&lt;chr&gt;</th><th scope=col>&lt;chr&gt;</th><th scope=col>&lt;chr&gt;</th><th scope=col>&lt;chr&gt;</th><th scope=col>&lt;chr&gt;</th></tr>\n",
              "</thead>\n",
              "<tbody>\n",
              "\t<tr><th scope=row>1</th><td>'PRIFYSGOL ABERYSTWYTH' AND 'ABERYSTWYTH UNIVERSITY'</td><td>19070</td><td>Aberystwyth University, Penglais, Ceredigion, SY23 3FL                            </td><td>SY23 3FL</td><td>RC000641</td><td>                     </td><td>11.5</td><td>10.3</td><td>    NA</td><td>    NA</td><td>⋯</td><td>60.0</td><td>62.0</td><td>38.0</td><td>https://www.aber.ac.uk/en/equality/genderpaygapreporting2019/ \n",
              "\n",
              "https://www.aber.ac.uk/cy/equality/gender-pay-gap/</td><td>Elizabeth Treasure (Vice-Chancellor)          </td><td>1000 to 4999</td><td>'PRIFYSGOL ABERYSTWYTH' AND 'ABERYSTWYTH UNIVERSITY'</td><td>False</td><td>2020/04/05 00:00:00</td><td>2020/04/03 14:47:45</td></tr>\n",
              "\t<tr><th scope=row>2</th><td>10 TRINITY SQUARE HOTEL LIMITED                     </td><td>19455</td><td>5 Market Yard Mews, 194-204 Bermondsey Street, London, United Kingdom, SE1 3TQ    </td><td>SE1 3TQ </td><td>08064685</td><td>82990                </td><td> 8.7</td><td>10.3</td><td>  29.6</td><td>  54.5</td><td>⋯</td><td>21.1</td><td>66.7</td><td>33.3</td><td>                                                                                                                    </td><td>Linda Stigter (Director of People and Culture)</td><td>250 to 499  </td><td>10 TRINITY SQUARE HOTEL LIMITED                     </td><td>False</td><td>2020/04/05 00:00:00</td><td>2020/03/19 15:51:20</td></tr>\n",
              "\t<tr><th scope=row>3</th><td>1LIFE MANAGEMENT SOLUTIONS LIMITED                  </td><td>  687</td><td>Ldh House St Ives Business Park, Parsons Green, St. Ives, Cambridgeshire, PE27 4AA</td><td>PE27 4AA</td><td>02566586</td><td>93110,\n",
              "93130,\n",
              "93290</td><td>11.0</td><td>-0.5</td><td>  81.5</td><td>  94.2</td><td>⋯</td><td>57.7</td><td>44.2</td><td>55.8</td><td>https://www.1life.co.uk/gender-pay-gap                                                                              </td><td>Mark Braithwaite (Managing Director)          </td><td>250 to 499  </td><td>1LIFE MANAGEMENT SOLUTIONS LIMITED                  </td><td>False</td><td>2020/04/05 00:00:00</td><td>2020/03/10 17:03:17</td></tr>\n",
              "\t<tr><th scope=row>4</th><td>1ST CHOICE STAFF RECRUITMENT LIMITED                </td><td>18136</td><td>1ST CHOICE RECRUITMENT, 8 St. Loyes Street, Bedford, MK40 1EP                     </td><td>MK40 1EP</td><td>07972006</td><td>78109                </td><td>-2.3</td><td> 0.0</td><td>-114.8</td><td>-249.3</td><td>⋯</td><td>37.1</td><td>50.0</td><td>50.0</td><td>https://www.1stchoice.net/gender-pay-gap-report-2019/                                                               </td><td>Gill Knight (MD)                              </td><td>250 to 499  </td><td>1ST CHOICE STAFF RECRUITMENT LIMITED                </td><td>False</td><td>2020/04/05 00:00:00</td><td>2020/01/24 09:37:01</td></tr>\n",
              "\t<tr><th scope=row>5</th><td>1ST HOME CARE LTD.                                  </td><td>17484</td><td>Real Life Options, 35 East Port, Dunfermline, Fife, Scotland, KY12 7LG            </td><td>KY12 7LG</td><td>SC272838</td><td>86900,\n",
              "88100        </td><td>-2.0</td><td> 0.5</td><td>    NA</td><td>    NA</td><td>⋯</td><td>91.0</td><td> 9.0</td><td>91.0</td><td>https://reallifeoptions.org/                                                                                        </td><td>Ian Hardcastle (Chief Operating Officer)      </td><td>250 to 499  </td><td>1ST HOME CARE LTD.                                  </td><td>False</td><td>2020/04/05 00:00:00</td><td>2020/03/12 08:21:06</td></tr>\n",
              "</tbody>\n",
              "</table>\n"
            ],
            "text/markdown": "\nA data.frame: 5 × 27\n\n| <!--/--> | EmployerName &lt;chr&gt; | EmployerId &lt;int&gt; | Address &lt;chr&gt; | PostCode &lt;chr&gt; | CompanyNumber &lt;chr&gt; | SicCodes &lt;chr&gt; | DiffMeanHourlyPercent &lt;dbl&gt; | DiffMedianHourlyPercent &lt;dbl&gt; | DiffMeanBonusPercent &lt;dbl&gt; | DiffMedianBonusPercent &lt;dbl&gt; | ⋯ ⋯ | FemaleUpperMiddleQuartile &lt;dbl&gt; | MaleTopQuartile &lt;dbl&gt; | FemaleTopQuartile &lt;dbl&gt; | CompanyLinkToGPGInfo &lt;chr&gt; | ResponsiblePerson &lt;chr&gt; | EmployerSize &lt;chr&gt; | CurrentName &lt;chr&gt; | SubmittedAfterTheDeadline &lt;chr&gt; | DueDate &lt;chr&gt; | DateSubmitted &lt;chr&gt; |\n|---|---|---|---|---|---|---|---|---|---|---|---|---|---|---|---|---|---|---|---|---|---|\n| 1 | 'PRIFYSGOL ABERYSTWYTH' AND 'ABERYSTWYTH UNIVERSITY' | 19070 | Aberystwyth University, Penglais, Ceredigion, SY23 3FL                             | SY23 3FL | RC000641 | <!----> | 11.5 | 10.3 |     NA |     NA | ⋯ | 60.0 | 62.0 | 38.0 | https://www.aber.ac.uk/en/equality/genderpaygapreporting2019/ \n\nhttps://www.aber.ac.uk/cy/equality/gender-pay-gap/ | Elizabeth Treasure (Vice-Chancellor)           | 1000 to 4999 | 'PRIFYSGOL ABERYSTWYTH' AND 'ABERYSTWYTH UNIVERSITY' | False | 2020/04/05 00:00:00 | 2020/04/03 14:47:45 |\n| 2 | 10 TRINITY SQUARE HOTEL LIMITED                      | 19455 | 5 Market Yard Mews, 194-204 Bermondsey Street, London, United Kingdom, SE1 3TQ     | SE1 3TQ  | 08064685 | 82990                 |  8.7 | 10.3 |   29.6 |   54.5 | ⋯ | 21.1 | 66.7 | 33.3 | <!----> | Linda Stigter (Director of People and Culture) | 250 to 499   | 10 TRINITY SQUARE HOTEL LIMITED                      | False | 2020/04/05 00:00:00 | 2020/03/19 15:51:20 |\n| 3 | 1LIFE MANAGEMENT SOLUTIONS LIMITED                   |   687 | Ldh House St Ives Business Park, Parsons Green, St. Ives, Cambridgeshire, PE27 4AA | PE27 4AA | 02566586 | 93110,\n93130,\n93290 | 11.0 | -0.5 |   81.5 |   94.2 | ⋯ | 57.7 | 44.2 | 55.8 | https://www.1life.co.uk/gender-pay-gap                                                                               | Mark Braithwaite (Managing Director)           | 250 to 499   | 1LIFE MANAGEMENT SOLUTIONS LIMITED                   | False | 2020/04/05 00:00:00 | 2020/03/10 17:03:17 |\n| 4 | 1ST CHOICE STAFF RECRUITMENT LIMITED                 | 18136 | 1ST CHOICE RECRUITMENT, 8 St. Loyes Street, Bedford, MK40 1EP                      | MK40 1EP | 07972006 | 78109                 | -2.3 |  0.0 | -114.8 | -249.3 | ⋯ | 37.1 | 50.0 | 50.0 | https://www.1stchoice.net/gender-pay-gap-report-2019/                                                                | Gill Knight (MD)                               | 250 to 499   | 1ST CHOICE STAFF RECRUITMENT LIMITED                 | False | 2020/04/05 00:00:00 | 2020/01/24 09:37:01 |\n| 5 | 1ST HOME CARE LTD.                                   | 17484 | Real Life Options, 35 East Port, Dunfermline, Fife, Scotland, KY12 7LG             | KY12 7LG | SC272838 | 86900,\n88100         | -2.0 |  0.5 |     NA |     NA | ⋯ | 91.0 |  9.0 | 91.0 | https://reallifeoptions.org/                                                                                         | Ian Hardcastle (Chief Operating Officer)       | 250 to 499   | 1ST HOME CARE LTD.                                   | False | 2020/04/05 00:00:00 | 2020/03/12 08:21:06 |\n\n",
            "text/latex": "A data.frame: 5 × 27\n\\begin{tabular}{r|lllllllllllllllllllll}\n  & EmployerName & EmployerId & Address & PostCode & CompanyNumber & SicCodes & DiffMeanHourlyPercent & DiffMedianHourlyPercent & DiffMeanBonusPercent & DiffMedianBonusPercent & ⋯ & FemaleUpperMiddleQuartile & MaleTopQuartile & FemaleTopQuartile & CompanyLinkToGPGInfo & ResponsiblePerson & EmployerSize & CurrentName & SubmittedAfterTheDeadline & DueDate & DateSubmitted\\\\\n  & <chr> & <int> & <chr> & <chr> & <chr> & <chr> & <dbl> & <dbl> & <dbl> & <dbl> & ⋯ & <dbl> & <dbl> & <dbl> & <chr> & <chr> & <chr> & <chr> & <chr> & <chr> & <chr>\\\\\n\\hline\n\t1 & 'PRIFYSGOL ABERYSTWYTH' AND 'ABERYSTWYTH UNIVERSITY' & 19070 & Aberystwyth University, Penglais, Ceredigion, SY23 3FL                             & SY23 3FL & RC000641 &                       & 11.5 & 10.3 &     NA &     NA & ⋯ & 60.0 & 62.0 & 38.0 & https://www.aber.ac.uk/en/equality/genderpaygapreporting2019/ \n\nhttps://www.aber.ac.uk/cy/equality/gender-pay-gap/ & Elizabeth Treasure (Vice-Chancellor)           & 1000 to 4999 & 'PRIFYSGOL ABERYSTWYTH' AND 'ABERYSTWYTH UNIVERSITY' & False & 2020/04/05 00:00:00 & 2020/04/03 14:47:45\\\\\n\t2 & 10 TRINITY SQUARE HOTEL LIMITED                      & 19455 & 5 Market Yard Mews, 194-204 Bermondsey Street, London, United Kingdom, SE1 3TQ     & SE1 3TQ  & 08064685 & 82990                 &  8.7 & 10.3 &   29.6 &   54.5 & ⋯ & 21.1 & 66.7 & 33.3 &                                                                                                                      & Linda Stigter (Director of People and Culture) & 250 to 499   & 10 TRINITY SQUARE HOTEL LIMITED                      & False & 2020/04/05 00:00:00 & 2020/03/19 15:51:20\\\\\n\t3 & 1LIFE MANAGEMENT SOLUTIONS LIMITED                   &   687 & Ldh House St Ives Business Park, Parsons Green, St. Ives, Cambridgeshire, PE27 4AA & PE27 4AA & 02566586 & 93110,\n93130,\n93290 & 11.0 & -0.5 &   81.5 &   94.2 & ⋯ & 57.7 & 44.2 & 55.8 & https://www.1life.co.uk/gender-pay-gap                                                                               & Mark Braithwaite (Managing Director)           & 250 to 499   & 1LIFE MANAGEMENT SOLUTIONS LIMITED                   & False & 2020/04/05 00:00:00 & 2020/03/10 17:03:17\\\\\n\t4 & 1ST CHOICE STAFF RECRUITMENT LIMITED                 & 18136 & 1ST CHOICE RECRUITMENT, 8 St. Loyes Street, Bedford, MK40 1EP                      & MK40 1EP & 07972006 & 78109                 & -2.3 &  0.0 & -114.8 & -249.3 & ⋯ & 37.1 & 50.0 & 50.0 & https://www.1stchoice.net/gender-pay-gap-report-2019/                                                                & Gill Knight (MD)                               & 250 to 499   & 1ST CHOICE STAFF RECRUITMENT LIMITED                 & False & 2020/04/05 00:00:00 & 2020/01/24 09:37:01\\\\\n\t5 & 1ST HOME CARE LTD.                                   & 17484 & Real Life Options, 35 East Port, Dunfermline, Fife, Scotland, KY12 7LG             & KY12 7LG & SC272838 & 86900,\n88100         & -2.0 &  0.5 &     NA &     NA & ⋯ & 91.0 &  9.0 & 91.0 & https://reallifeoptions.org/                                                                                         & Ian Hardcastle (Chief Operating Officer)       & 250 to 499   & 1ST HOME CARE LTD.                                   & False & 2020/04/05 00:00:00 & 2020/03/12 08:21:06\\\\\n\\end{tabular}\n",
            "text/plain": [
              "  EmployerName                                         EmployerId\n",
              "1 'PRIFYSGOL ABERYSTWYTH' AND 'ABERYSTWYTH UNIVERSITY' 19070     \n",
              "2 10 TRINITY SQUARE HOTEL LIMITED                      19455     \n",
              "3 1LIFE MANAGEMENT SOLUTIONS LIMITED                     687     \n",
              "4 1ST CHOICE STAFF RECRUITMENT LIMITED                 18136     \n",
              "5 1ST HOME CARE LTD.                                   17484     \n",
              "  Address                                                                           \n",
              "1 Aberystwyth University, Penglais, Ceredigion, SY23 3FL                            \n",
              "2 5 Market Yard Mews, 194-204 Bermondsey Street, London, United Kingdom, SE1 3TQ    \n",
              "3 Ldh House St Ives Business Park, Parsons Green, St. Ives, Cambridgeshire, PE27 4AA\n",
              "4 1ST CHOICE RECRUITMENT, 8 St. Loyes Street, Bedford, MK40 1EP                     \n",
              "5 Real Life Options, 35 East Port, Dunfermline, Fife, Scotland, KY12 7LG            \n",
              "  PostCode CompanyNumber SicCodes              DiffMeanHourlyPercent\n",
              "1 SY23 3FL RC000641                            11.5                 \n",
              "2 SE1 3TQ  08064685      82990                  8.7                 \n",
              "3 PE27 4AA 02566586      93110,\\n93130,\\n93290 11.0                 \n",
              "4 MK40 1EP 07972006      78109                 -2.3                 \n",
              "5 KY12 7LG SC272838      86900,\\n88100         -2.0                 \n",
              "  DiffMedianHourlyPercent DiffMeanBonusPercent DiffMedianBonusPercent ⋯\n",
              "1 10.3                        NA                   NA                 ⋯\n",
              "2 10.3                      29.6                 54.5                 ⋯\n",
              "3 -0.5                      81.5                 94.2                 ⋯\n",
              "4  0.0                    -114.8               -249.3                 ⋯\n",
              "5  0.5                        NA                   NA                 ⋯\n",
              "  FemaleUpperMiddleQuartile MaleTopQuartile FemaleTopQuartile\n",
              "1 60.0                      62.0            38.0             \n",
              "2 21.1                      66.7            33.3             \n",
              "3 57.7                      44.2            55.8             \n",
              "4 37.1                      50.0            50.0             \n",
              "5 91.0                       9.0            91.0             \n",
              "  CompanyLinkToGPGInfo                                                                                                \n",
              "1 https://www.aber.ac.uk/en/equality/genderpaygapreporting2019/ \\n\\nhttps://www.aber.ac.uk/cy/equality/gender-pay-gap/\n",
              "2                                                                                                                     \n",
              "3 https://www.1life.co.uk/gender-pay-gap                                                                              \n",
              "4 https://www.1stchoice.net/gender-pay-gap-report-2019/                                                               \n",
              "5 https://reallifeoptions.org/                                                                                        \n",
              "  ResponsiblePerson                              EmployerSize\n",
              "1 Elizabeth Treasure (Vice-Chancellor)           1000 to 4999\n",
              "2 Linda Stigter (Director of People and Culture) 250 to 499  \n",
              "3 Mark Braithwaite (Managing Director)           250 to 499  \n",
              "4 Gill Knight (MD)                               250 to 499  \n",
              "5 Ian Hardcastle (Chief Operating Officer)       250 to 499  \n",
              "  CurrentName                                         \n",
              "1 'PRIFYSGOL ABERYSTWYTH' AND 'ABERYSTWYTH UNIVERSITY'\n",
              "2 10 TRINITY SQUARE HOTEL LIMITED                     \n",
              "3 1LIFE MANAGEMENT SOLUTIONS LIMITED                  \n",
              "4 1ST CHOICE STAFF RECRUITMENT LIMITED                \n",
              "5 1ST HOME CARE LTD.                                  \n",
              "  SubmittedAfterTheDeadline DueDate             DateSubmitted      \n",
              "1 False                     2020/04/05 00:00:00 2020/04/03 14:47:45\n",
              "2 False                     2020/04/05 00:00:00 2020/03/19 15:51:20\n",
              "3 False                     2020/04/05 00:00:00 2020/03/10 17:03:17\n",
              "4 False                     2020/04/05 00:00:00 2020/01/24 09:37:01\n",
              "5 False                     2020/04/05 00:00:00 2020/03/12 08:21:06"
            ]
          },
          "metadata": {}
        }
      ]
    },
    {
      "cell_type": "code",
      "source": [
        "colnames(paygap)"
      ],
      "metadata": {
        "colab": {
          "base_uri": "https://localhost:8080/",
          "height": 139
        },
        "id": "CIAuxYQ0jnrk",
        "outputId": "65035b98-a18d-4c13-cf59-75a12be2eeb3"
      },
      "execution_count": 8,
      "outputs": [
        {
          "output_type": "display_data",
          "data": {
            "text/html": [
              "<style>\n",
              ".list-inline {list-style: none; margin:0; padding: 0}\n",
              ".list-inline>li {display: inline-block}\n",
              ".list-inline>li:not(:last-child)::after {content: \"\\00b7\"; padding: 0 .5ex}\n",
              "</style>\n",
              "<ol class=list-inline><li>'EmployerName'</li><li>'EmployerId'</li><li>'Address'</li><li>'PostCode'</li><li>'CompanyNumber'</li><li>'SicCodes'</li><li>'DiffMeanHourlyPercent'</li><li>'DiffMedianHourlyPercent'</li><li>'DiffMeanBonusPercent'</li><li>'DiffMedianBonusPercent'</li><li>'MaleBonusPercent'</li><li>'FemaleBonusPercent'</li><li>'MaleLowerQuartile'</li><li>'FemaleLowerQuartile'</li><li>'MaleLowerMiddleQuartile'</li><li>'FemaleLowerMiddleQuartile'</li><li>'MaleUpperMiddleQuartile'</li><li>'FemaleUpperMiddleQuartile'</li><li>'MaleTopQuartile'</li><li>'FemaleTopQuartile'</li><li>'CompanyLinkToGPGInfo'</li><li>'ResponsiblePerson'</li><li>'EmployerSize'</li><li>'CurrentName'</li><li>'SubmittedAfterTheDeadline'</li><li>'DueDate'</li><li>'DateSubmitted'</li></ol>\n"
            ],
            "text/markdown": "1. 'EmployerName'\n2. 'EmployerId'\n3. 'Address'\n4. 'PostCode'\n5. 'CompanyNumber'\n6. 'SicCodes'\n7. 'DiffMeanHourlyPercent'\n8. 'DiffMedianHourlyPercent'\n9. 'DiffMeanBonusPercent'\n10. 'DiffMedianBonusPercent'\n11. 'MaleBonusPercent'\n12. 'FemaleBonusPercent'\n13. 'MaleLowerQuartile'\n14. 'FemaleLowerQuartile'\n15. 'MaleLowerMiddleQuartile'\n16. 'FemaleLowerMiddleQuartile'\n17. 'MaleUpperMiddleQuartile'\n18. 'FemaleUpperMiddleQuartile'\n19. 'MaleTopQuartile'\n20. 'FemaleTopQuartile'\n21. 'CompanyLinkToGPGInfo'\n22. 'ResponsiblePerson'\n23. 'EmployerSize'\n24. 'CurrentName'\n25. 'SubmittedAfterTheDeadline'\n26. 'DueDate'\n27. 'DateSubmitted'\n\n\n",
            "text/latex": "\\begin{enumerate*}\n\\item 'EmployerName'\n\\item 'EmployerId'\n\\item 'Address'\n\\item 'PostCode'\n\\item 'CompanyNumber'\n\\item 'SicCodes'\n\\item 'DiffMeanHourlyPercent'\n\\item 'DiffMedianHourlyPercent'\n\\item 'DiffMeanBonusPercent'\n\\item 'DiffMedianBonusPercent'\n\\item 'MaleBonusPercent'\n\\item 'FemaleBonusPercent'\n\\item 'MaleLowerQuartile'\n\\item 'FemaleLowerQuartile'\n\\item 'MaleLowerMiddleQuartile'\n\\item 'FemaleLowerMiddleQuartile'\n\\item 'MaleUpperMiddleQuartile'\n\\item 'FemaleUpperMiddleQuartile'\n\\item 'MaleTopQuartile'\n\\item 'FemaleTopQuartile'\n\\item 'CompanyLinkToGPGInfo'\n\\item 'ResponsiblePerson'\n\\item 'EmployerSize'\n\\item 'CurrentName'\n\\item 'SubmittedAfterTheDeadline'\n\\item 'DueDate'\n\\item 'DateSubmitted'\n\\end{enumerate*}\n",
            "text/plain": [
              " [1] \"EmployerName\"              \"EmployerId\"               \n",
              " [3] \"Address\"                   \"PostCode\"                 \n",
              " [5] \"CompanyNumber\"             \"SicCodes\"                 \n",
              " [7] \"DiffMeanHourlyPercent\"     \"DiffMedianHourlyPercent\"  \n",
              " [9] \"DiffMeanBonusPercent\"      \"DiffMedianBonusPercent\"   \n",
              "[11] \"MaleBonusPercent\"          \"FemaleBonusPercent\"       \n",
              "[13] \"MaleLowerQuartile\"         \"FemaleLowerQuartile\"      \n",
              "[15] \"MaleLowerMiddleQuartile\"   \"FemaleLowerMiddleQuartile\"\n",
              "[17] \"MaleUpperMiddleQuartile\"   \"FemaleUpperMiddleQuartile\"\n",
              "[19] \"MaleTopQuartile\"           \"FemaleTopQuartile\"        \n",
              "[21] \"CompanyLinkToGPGInfo\"      \"ResponsiblePerson\"        \n",
              "[23] \"EmployerSize\"              \"CurrentName\"              \n",
              "[25] \"SubmittedAfterTheDeadline\" \"DueDate\"                  \n",
              "[27] \"DateSubmitted\"            "
            ]
          },
          "metadata": {}
        }
      ]
    },
    {
      "cell_type": "code",
      "source": [
        "dim(paygap)"
      ],
      "metadata": {
        "colab": {
          "base_uri": "https://localhost:8080/",
          "height": 34
        },
        "id": "QQ-_7OgfjwoG",
        "outputId": "0318b0df-cddc-4e1a-c3a9-befa5c95aa9d"
      },
      "execution_count": 9,
      "outputs": [
        {
          "output_type": "display_data",
          "data": {
            "text/html": [
              "<style>\n",
              ".list-inline {list-style: none; margin:0; padding: 0}\n",
              ".list-inline>li {display: inline-block}\n",
              ".list-inline>li:not(:last-child)::after {content: \"\\00b7\"; padding: 0 .5ex}\n",
              "</style>\n",
              "<ol class=list-inline><li>6921</li><li>27</li></ol>\n"
            ],
            "text/markdown": "1. 6921\n2. 27\n\n\n",
            "text/latex": "\\begin{enumerate*}\n\\item 6921\n\\item 27\n\\end{enumerate*}\n",
            "text/plain": [
              "[1] 6921   27"
            ]
          },
          "metadata": {}
        }
      ]
    },
    {
      "cell_type": "code",
      "source": [
        "class(paygap)"
      ],
      "metadata": {
        "colab": {
          "base_uri": "https://localhost:8080/",
          "height": 34
        },
        "id": "KguHP8N1j3-b",
        "outputId": "ab2dca9b-b4dc-4c1b-ca88-7576db9a6d53"
      },
      "execution_count": 10,
      "outputs": [
        {
          "output_type": "display_data",
          "data": {
            "text/html": [
              "'data.frame'"
            ],
            "text/markdown": "'data.frame'",
            "text/latex": "'data.frame'",
            "text/plain": [
              "[1] \"data.frame\""
            ]
          },
          "metadata": {}
        }
      ]
    },
    {
      "cell_type": "code",
      "source": [
        "\n",
        "class(paygap$DiffMeanHourlyPercent)"
      ],
      "metadata": {
        "colab": {
          "base_uri": "https://localhost:8080/",
          "height": 34
        },
        "id": "cAQ9WabXj6OI",
        "outputId": "b66e1974-b99c-4f98-fa00-e04106bf9197"
      },
      "execution_count": 11,
      "outputs": [
        {
          "output_type": "display_data",
          "data": {
            "text/html": [
              "'numeric'"
            ],
            "text/markdown": "'numeric'",
            "text/latex": "'numeric'",
            "text/plain": [
              "[1] \"numeric\""
            ]
          },
          "metadata": {}
        }
      ]
    },
    {
      "cell_type": "code",
      "source": [
        "#The original dataset was not available anymore. The data found below is from another source. (https://github.com/zhichaoluo/DataAnalysis/blob/master/data/NORMTEMP.csv)\n",
        "#1=male, 2=female\n",
        "\n",
        "bodytemp <- c(96.3,96.7,96.9,97,97.1,97.1,97.1,97.2,97.3,97.4,97.4,97.4,97.4,97.5,97.5,97.6,97.6,97.6,97.7,97.8,97.8,97.8,97.8,97.9,97.9,98,98,98,98,98,98,98.1,98.1,98.2,98.2,98.2,98.2,98.3,98.3,98.4,98.4,98.4,98.4,98.5,98.5,98.6,98.6,98.6,98.6,98.6,98.6,98.7,98.7,98.8,98.8,98.8,98.9,99,99,99,99.1,99.2,99.3,99.4,99.5,96.4,96.7,96.8,97.2,97.2,97.4,97.6,97.7,97.7,97.8,97.8,97.8,97.9,97.9,97.9,98,98,98,98,98,98.1,98.2,98.2,98.2,98.2,98.2,98.2,98.3,98.3,98.3,98.4,98.4,98.4,98.4,98.4,98.5,98.6,98.6,98.6,98.6,98.7,98.7,98.7,98.7,98.7,98.7,98.8,98.8,98.8,98.8,98.8,98.8,98.8,98.9,99,99,99.1,99.1,99.2,99.2,99.3,99.4,99.9,100,100.8)\n",
        "gender <- c(1,1,1,1,1,1,1,1,1,1,1,1,1,1,1,1,1,1,1,1,1,1,1,1,1,1,1,1,1,1,1,1,1,1,1,1,1,1,1,1,1,1,1,1,1,1,1,1,1,1,1,1,1,1,1,1,1,1,1,1,1,1,1,1,1,2,2,2,2,2,2,2,2,2,2,2,2,2,2,2,2,2,2,2,2,2,2,2,2,2,2,2,2,2,2,2,2,2,2,2,2,2,2,2,2,2,2,2,2,2,2,2,2,2,2,2,2,2,2,2,2,2,2,2,2,2,2,2,2,2)\n",
        "heartrate <- c(70,71,74,80,73,75,82,64,69,70,68,72,78,70,75,74,69,73,77,58,73,65,74,76,72,78,71,74,67,64,78,73,67,66,64,71,72,86,72,68,70,82,84,68,71,77,78,83,66,70,82,73,78,78,81,78,80,75,79,81,71,83,63,70,75,69,62,75,66,68,57,61,84,61,77,62,71,68,69,79,76,87,78,73,89,81,73,64,65,73,69,57,79,78,80,79,81,73,74,84,83,82,85,86,77,72,79,59,64,65,82,64,70,83,89,69,73,84,76,79,81,80,74,77,66,68,77,79,78,77)\n"
      ],
      "metadata": {
        "id": "ca6G8xf0mq1p"
      },
      "execution_count": 19,
      "outputs": []
    },
    {
      "cell_type": "code",
      "source": [
        "cardiacdata <- data.frame(temp = bodytemp, sex = gender, hr = heartrate)"
      ],
      "metadata": {
        "id": "Eit8fTwunuIq"
      },
      "execution_count": 18,
      "outputs": []
    },
    {
      "cell_type": "code",
      "source": [
        "head(cardiacdata, n = 5)"
      ],
      "metadata": {
        "colab": {
          "base_uri": "https://localhost:8080/",
          "height": 255
        },
        "id": "Rw_veczCoYlh",
        "outputId": "0a60559f-1c96-422e-c08c-3cbe89fe7b44"
      },
      "execution_count": 20,
      "outputs": [
        {
          "output_type": "display_data",
          "data": {
            "text/html": [
              "<table class=\"dataframe\">\n",
              "<caption>A data.frame: 5 × 3</caption>\n",
              "<thead>\n",
              "\t<tr><th></th><th scope=col>temp</th><th scope=col>sex</th><th scope=col>hr</th></tr>\n",
              "\t<tr><th></th><th scope=col>&lt;dbl&gt;</th><th scope=col>&lt;dbl&gt;</th><th scope=col>&lt;dbl&gt;</th></tr>\n",
              "</thead>\n",
              "<tbody>\n",
              "\t<tr><th scope=row>1</th><td>96.3</td><td>1</td><td>70</td></tr>\n",
              "\t<tr><th scope=row>2</th><td>96.7</td><td>1</td><td>71</td></tr>\n",
              "\t<tr><th scope=row>3</th><td>96.9</td><td>1</td><td>74</td></tr>\n",
              "\t<tr><th scope=row>4</th><td>97.0</td><td>1</td><td>80</td></tr>\n",
              "\t<tr><th scope=row>5</th><td>97.1</td><td>1</td><td>73</td></tr>\n",
              "</tbody>\n",
              "</table>\n"
            ],
            "text/markdown": "\nA data.frame: 5 × 3\n\n| <!--/--> | temp &lt;dbl&gt; | sex &lt;dbl&gt; | hr &lt;dbl&gt; |\n|---|---|---|---|\n| 1 | 96.3 | 1 | 70 |\n| 2 | 96.7 | 1 | 71 |\n| 3 | 96.9 | 1 | 74 |\n| 4 | 97.0 | 1 | 80 |\n| 5 | 97.1 | 1 | 73 |\n\n",
            "text/latex": "A data.frame: 5 × 3\n\\begin{tabular}{r|lll}\n  & temp & sex & hr\\\\\n  & <dbl> & <dbl> & <dbl>\\\\\n\\hline\n\t1 & 96.3 & 1 & 70\\\\\n\t2 & 96.7 & 1 & 71\\\\\n\t3 & 96.9 & 1 & 74\\\\\n\t4 & 97.0 & 1 & 80\\\\\n\t5 & 97.1 & 1 & 73\\\\\n\\end{tabular}\n",
            "text/plain": [
              "  temp sex hr\n",
              "1 96.3 1   70\n",
              "2 96.7 1   71\n",
              "3 96.9 1   74\n",
              "4 97.0 1   80\n",
              "5 97.1 1   73"
            ]
          },
          "metadata": {}
        }
      ]
    },
    {
      "cell_type": "code",
      "source": [
        "colnames(cardiacdata)"
      ],
      "metadata": {
        "colab": {
          "base_uri": "https://localhost:8080/",
          "height": 34
        },
        "id": "0bBwkmMto1oq",
        "outputId": "43bf3d4f-eaaf-4705-a387-badbbde02be6"
      },
      "execution_count": 21,
      "outputs": [
        {
          "output_type": "display_data",
          "data": {
            "text/html": [
              "<style>\n",
              ".list-inline {list-style: none; margin:0; padding: 0}\n",
              ".list-inline>li {display: inline-block}\n",
              ".list-inline>li:not(:last-child)::after {content: \"\\00b7\"; padding: 0 .5ex}\n",
              "</style>\n",
              "<ol class=list-inline><li>'temp'</li><li>'sex'</li><li>'hr'</li></ol>\n"
            ],
            "text/markdown": "1. 'temp'\n2. 'sex'\n3. 'hr'\n\n\n",
            "text/latex": "\\begin{enumerate*}\n\\item 'temp'\n\\item 'sex'\n\\item 'hr'\n\\end{enumerate*}\n",
            "text/plain": [
              "[1] \"temp\" \"sex\"  \"hr\"  "
            ]
          },
          "metadata": {}
        }
      ]
    },
    {
      "cell_type": "code",
      "source": [
        "dim(cardiacdata)"
      ],
      "metadata": {
        "colab": {
          "base_uri": "https://localhost:8080/",
          "height": 34
        },
        "id": "Fs81-r9qo33G",
        "outputId": "144b5720-8111-44cb-c3db-720f0db6ece5"
      },
      "execution_count": 22,
      "outputs": [
        {
          "output_type": "display_data",
          "data": {
            "text/html": [
              "<style>\n",
              ".list-inline {list-style: none; margin:0; padding: 0}\n",
              ".list-inline>li {display: inline-block}\n",
              ".list-inline>li:not(:last-child)::after {content: \"\\00b7\"; padding: 0 .5ex}\n",
              "</style>\n",
              "<ol class=list-inline><li>130</li><li>3</li></ol>\n"
            ],
            "text/markdown": "1. 130\n2. 3\n\n\n",
            "text/latex": "\\begin{enumerate*}\n\\item 130\n\\item 3\n\\end{enumerate*}\n",
            "text/plain": [
              "[1] 130   3"
            ]
          },
          "metadata": {}
        }
      ]
    },
    {
      "cell_type": "code",
      "source": [
        "class(cardiacdata)"
      ],
      "metadata": {
        "colab": {
          "base_uri": "https://localhost:8080/",
          "height": 34
        },
        "id": "TAHAe0Ixo9O1",
        "outputId": "690033db-37dc-42b8-d20d-c7a33188f23f"
      },
      "execution_count": 23,
      "outputs": [
        {
          "output_type": "display_data",
          "data": {
            "text/html": [
              "'data.frame'"
            ],
            "text/markdown": "'data.frame'",
            "text/latex": "'data.frame'",
            "text/plain": [
              "[1] \"data.frame\""
            ]
          },
          "metadata": {}
        }
      ]
    },
    {
      "cell_type": "code",
      "source": [
        "#Wrangling Data"
      ],
      "metadata": {
        "id": "eHV91cSLpQNe"
      },
      "execution_count": null,
      "outputs": []
    },
    {
      "cell_type": "code",
      "source": [
        "# extract element in 1st row and 3th column\n",
        "cardiacdata[1,3]"
      ],
      "metadata": {
        "colab": {
          "base_uri": "https://localhost:8080/",
          "height": 34
        },
        "id": "5JlyGh5dpUbk",
        "outputId": "38cfb463-5e51-4f60-899a-faa49abbe0b0"
      },
      "execution_count": 24,
      "outputs": [
        {
          "output_type": "display_data",
          "data": {
            "text/html": [
              "70"
            ],
            "text/markdown": "70",
            "text/latex": "70",
            "text/plain": [
              "[1] 70"
            ]
          },
          "metadata": {}
        }
      ]
    },
    {
      "cell_type": "code",
      "source": [
        "# extract rows 5-7 from columns 1-3\n",
        "cardiacdata[5:7,1:3]"
      ],
      "metadata": {
        "colab": {
          "base_uri": "https://localhost:8080/",
          "height": 192
        },
        "id": "cSK1Vg17pYAY",
        "outputId": "6865ad54-7bd6-4b14-cd33-dbf05fed2951"
      },
      "execution_count": 25,
      "outputs": [
        {
          "output_type": "display_data",
          "data": {
            "text/html": [
              "<table class=\"dataframe\">\n",
              "<caption>A data.frame: 3 × 3</caption>\n",
              "<thead>\n",
              "\t<tr><th></th><th scope=col>temp</th><th scope=col>sex</th><th scope=col>hr</th></tr>\n",
              "\t<tr><th></th><th scope=col>&lt;dbl&gt;</th><th scope=col>&lt;dbl&gt;</th><th scope=col>&lt;dbl&gt;</th></tr>\n",
              "</thead>\n",
              "<tbody>\n",
              "\t<tr><th scope=row>5</th><td>97.1</td><td>1</td><td>73</td></tr>\n",
              "\t<tr><th scope=row>6</th><td>97.1</td><td>1</td><td>75</td></tr>\n",
              "\t<tr><th scope=row>7</th><td>97.1</td><td>1</td><td>82</td></tr>\n",
              "</tbody>\n",
              "</table>\n"
            ],
            "text/markdown": "\nA data.frame: 3 × 3\n\n| <!--/--> | temp &lt;dbl&gt; | sex &lt;dbl&gt; | hr &lt;dbl&gt; |\n|---|---|---|---|\n| 5 | 97.1 | 1 | 73 |\n| 6 | 97.1 | 1 | 75 |\n| 7 | 97.1 | 1 | 82 |\n\n",
            "text/latex": "A data.frame: 3 × 3\n\\begin{tabular}{r|lll}\n  & temp & sex & hr\\\\\n  & <dbl> & <dbl> & <dbl>\\\\\n\\hline\n\t5 & 97.1 & 1 & 73\\\\\n\t6 & 97.1 & 1 & 75\\\\\n\t7 & 97.1 & 1 & 82\\\\\n\\end{tabular}\n",
            "text/plain": [
              "  temp sex hr\n",
              "5 97.1 1   73\n",
              "6 97.1 1   75\n",
              "7 97.1 1   82"
            ]
          },
          "metadata": {}
        }
      ]
    },
    {
      "cell_type": "code",
      "source": [
        "# extract column 'bodytemp' and assign to new object 'temperatures'\n",
        "temperatures <- cardiacdata$bodytemp"
      ],
      "metadata": {
        "id": "Vr41DDAVpm-W"
      },
      "execution_count": 26,
      "outputs": []
    },
    {
      "cell_type": "code",
      "source": [
        "head(cardiacdata)"
      ],
      "metadata": {
        "colab": {
          "base_uri": "https://localhost:8080/",
          "height": 286
        },
        "id": "yLHLGKD0pqcW",
        "outputId": "fab5bf5b-1f80-4faf-fc91-15fd219d86f4"
      },
      "execution_count": 28,
      "outputs": [
        {
          "output_type": "display_data",
          "data": {
            "text/html": [
              "<table class=\"dataframe\">\n",
              "<caption>A data.frame: 6 × 3</caption>\n",
              "<thead>\n",
              "\t<tr><th></th><th scope=col>temp</th><th scope=col>sex</th><th scope=col>hr</th></tr>\n",
              "\t<tr><th></th><th scope=col>&lt;dbl&gt;</th><th scope=col>&lt;dbl&gt;</th><th scope=col>&lt;dbl&gt;</th></tr>\n",
              "</thead>\n",
              "<tbody>\n",
              "\t<tr><th scope=row>1</th><td>96.3</td><td>1</td><td>70</td></tr>\n",
              "\t<tr><th scope=row>2</th><td>96.7</td><td>1</td><td>71</td></tr>\n",
              "\t<tr><th scope=row>3</th><td>96.9</td><td>1</td><td>74</td></tr>\n",
              "\t<tr><th scope=row>4</th><td>97.0</td><td>1</td><td>80</td></tr>\n",
              "\t<tr><th scope=row>5</th><td>97.1</td><td>1</td><td>73</td></tr>\n",
              "\t<tr><th scope=row>6</th><td>97.1</td><td>1</td><td>75</td></tr>\n",
              "</tbody>\n",
              "</table>\n"
            ],
            "text/markdown": "\nA data.frame: 6 × 3\n\n| <!--/--> | temp &lt;dbl&gt; | sex &lt;dbl&gt; | hr &lt;dbl&gt; |\n|---|---|---|---|\n| 1 | 96.3 | 1 | 70 |\n| 2 | 96.7 | 1 | 71 |\n| 3 | 96.9 | 1 | 74 |\n| 4 | 97.0 | 1 | 80 |\n| 5 | 97.1 | 1 | 73 |\n| 6 | 97.1 | 1 | 75 |\n\n",
            "text/latex": "A data.frame: 6 × 3\n\\begin{tabular}{r|lll}\n  & temp & sex & hr\\\\\n  & <dbl> & <dbl> & <dbl>\\\\\n\\hline\n\t1 & 96.3 & 1 & 70\\\\\n\t2 & 96.7 & 1 & 71\\\\\n\t3 & 96.9 & 1 & 74\\\\\n\t4 & 97.0 & 1 & 80\\\\\n\t5 & 97.1 & 1 & 73\\\\\n\t6 & 97.1 & 1 & 75\\\\\n\\end{tabular}\n",
            "text/plain": [
              "  temp sex hr\n",
              "1 96.3 1   70\n",
              "2 96.7 1   71\n",
              "3 96.9 1   74\n",
              "4 97.0 1   80\n",
              "5 97.1 1   73\n",
              "6 97.1 1   75"
            ]
          },
          "metadata": {}
        }
      ]
    },
    {
      "cell_type": "code",
      "source": [
        "# filter for data from female subjects only\n",
        "cardiacdata_female <- filter(cardiacdata, gender == 'Female')"
      ],
      "metadata": {
        "id": "B-UCkCVPqvyq"
      },
      "execution_count": 33,
      "outputs": []
    },
    {
      "cell_type": "code",
      "source": [
        "ggplot(data = cardiacdata, mapping = aes(x = bodytemp)) + \n",
        "  geom_histogram(bins = 20)"
      ],
      "metadata": {
        "colab": {
          "base_uri": "https://localhost:8080/",
          "height": 437
        },
        "id": "EhZv0Nb6q6Ti",
        "outputId": "6d4bb5ce-1e4a-40fc-bc5b-9915a2408f38"
      },
      "execution_count": 35,
      "outputs": [
        {
          "output_type": "display_data",
          "data": {
            "text/plain": [
              "plot without title"
            ],
            "image/png": "[encoded data removed]"
          },
          "metadata": {
            "image/png": {
              "width": 420,
              "height": 420
            }
          }
        }
      ]
    },
    {
      "cell_type": "code",
      "source": [
        "ggplot(data = cardiacdata, mapping = aes(x = bodytemp)) + \n",
        "  geom_histogram(bins = 20, aes(y = ..density..))"
      ],
      "metadata": {
        "colab": {
          "base_uri": "https://localhost:8080/",
          "height": 437
        },
        "id": "qDbiUZcTrIv4",
        "outputId": "440497b7-e17a-46c7-ff05-159977da9379"
      },
      "execution_count": 36,
      "outputs": [
        {
          "output_type": "display_data",
          "data": {
            "text/plain": [
              "plot without title"
            ],
            "image/png": "[encoded data removed]"
          },
          "metadata": {
            "image/png": {
              "width": 420,
              "height": 420
            }
          }
        }
      ]
    },
    {
      "cell_type": "code",
      "source": [
        "ggplot(data = cardiacdata, mapping = aes(x = heartrate, y = bodytemp)) + \n",
        "  geom_point() +\n",
        "  theme_light()"
      ],
      "metadata": {
        "colab": {
          "base_uri": "https://localhost:8080/",
          "height": 437
        },
        "id": "Aj93J5-6rMkc",
        "outputId": "540b996c-6907-4909-8318-e6d2c40a4cc3"
      },
      "execution_count": 37,
      "outputs": [
        {
          "output_type": "display_data",
          "data": {
            "text/plain": [
              "plot without title"
            ],
            "image/png": "[encoded data removed]"
          },
          "metadata": {
            "image/png": {
              "width": 420,
              "height": 420
            }
          }
        }
      ]
    },
    {
      "cell_type": "code",
      "source": [
        "ggplot(data = cardiacdata, mapping = aes(x = heartrate, y = bodytemp, color = gender)) + \n",
        "  geom_point() +\n",
        "  theme_light()"
      ],
      "metadata": {
        "colab": {
          "base_uri": "https://localhost:8080/",
          "height": 437
        },
        "id": "zkv54_RYrWIV",
        "outputId": "168ace76-e414-445a-9b8a-6688cf45728d"
      },
      "execution_count": 38,
      "outputs": [
        {
          "output_type": "display_data",
          "data": {
            "text/plain": [
              "plot without title"
            ],
            "image/png": "[encoded data removed]"
          },
          "metadata": {
            "image/png": {
              "width": 420,
              "height": 420
            }
          }
        }
      ]
    },
    {
      "cell_type": "code",
      "source": [
        "ggplot(data = cardiacdata, mapping = aes(x = gender, y = bodytemp)) +\n",
        "  geom_boxplot() +\n",
        "  xlab('gender') +\n",
        "  ylab('body temperature (celsius)') +\n",
        "  theme_light()"
      ],
      "metadata": {
        "colab": {
          "base_uri": "https://localhost:8080/",
          "height": 473
        },
        "id": "p2b7hGdorcnk",
        "outputId": "ee1828b3-e2d3-415e-838d-f867ed15d802"
      },
      "execution_count": 39,
      "outputs": [
        {
          "output_type": "stream",
          "name": "stderr",
          "text": [
            "Warning message:\n",
            "“Continuous x aesthetic -- did you forget aes(group=...)?”\n"
          ]
        },
        {
          "output_type": "display_data",
          "data": {
            "text/plain": [
              "plot without title"
            ],
            "image/png": "[encoded data removed]"
          },
          "metadata": {
            "image/png": {
              "width": 420,
              "height": 420
            }
          }
        }
      ]
    }
  ]
}